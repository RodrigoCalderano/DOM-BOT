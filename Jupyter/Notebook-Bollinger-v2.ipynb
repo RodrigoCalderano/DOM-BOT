{
 "cells": [
  {
   "cell_type": "code",
   "execution_count": 16,
   "metadata": {
    "collapsed": false
   },
   "outputs": [],
   "source": [
    "import seaborn as sns\n",
    "import pandas as pd\n",
    "import numpy as np\n",
    "import matplotlib.pylab as plt\n",
    "import matplotlib.dates as dates\n",
    "import mpl_finance as candle\n",
    "from matplotlib.dates import DateFormatter, date2num, WeekdayLocator, DayLocator, MONDAY\n",
    "from pylab import rcParams\n",
    "\n",
    "\n",
    "%matplotlib inline"
   ]
  },
  {
   "cell_type": "markdown",
   "metadata": {},
   "source": [
    "# TABELAS AUXILIARES DAS ESTRATEGIAS"
   ]
  },
  {
   "cell_type": "code",
   "execution_count": 147,
   "metadata": {
    "collapsed": false
   },
   "outputs": [
    {
     "data": {
      "text/html": [
       "<div>\n",
       "<style scoped>\n",
       "    .dataframe tbody tr th:only-of-type {\n",
       "        vertical-align: middle;\n",
       "    }\n",
       "\n",
       "    .dataframe tbody tr th {\n",
       "        vertical-align: top;\n",
       "    }\n",
       "\n",
       "    .dataframe thead th {\n",
       "        text-align: right;\n",
       "    }\n",
       "</style>\n",
       "<table border=\"1\" class=\"dataframe\">\n",
       "  <thead>\n",
       "    <tr style=\"text-align: right;\">\n",
       "      <th></th>\n",
       "      <th>CODIGO DE NEGOCIACAO DO PAPEL</th>\n",
       "      <th>ESTADO</th>\n",
       "      <th>AUX</th>\n",
       "      <th>FROZEN</th>\n",
       "    </tr>\n",
       "  </thead>\n",
       "  <tbody>\n",
       "    <tr>\n",
       "      <th>0</th>\n",
       "      <td>PETR4</td>\n",
       "      <td>PROCURANDO ENTRADA</td>\n",
       "      <td>0</td>\n",
       "      <td>0</td>\n",
       "    </tr>\n",
       "    <tr>\n",
       "      <th>1</th>\n",
       "      <td>VALE3</td>\n",
       "      <td>PROCURANDO ENTRADA</td>\n",
       "      <td>0</td>\n",
       "      <td>0</td>\n",
       "    </tr>\n",
       "    <tr>\n",
       "      <th>2</th>\n",
       "      <td>ITUB4</td>\n",
       "      <td>PROCURANDO ENTRADA</td>\n",
       "      <td>0</td>\n",
       "      <td>0</td>\n",
       "    </tr>\n",
       "    <tr>\n",
       "      <th>3</th>\n",
       "      <td>BBDC4</td>\n",
       "      <td>PROCURANDO ENTRADA</td>\n",
       "      <td>0</td>\n",
       "      <td>0</td>\n",
       "    </tr>\n",
       "    <tr>\n",
       "      <th>4</th>\n",
       "      <td>BBAS3</td>\n",
       "      <td>PROCURANDO ENTRADA</td>\n",
       "      <td>0</td>\n",
       "      <td>0</td>\n",
       "    </tr>\n",
       "  </tbody>\n",
       "</table>\n",
       "</div>"
      ],
      "text/plain": [
       "  CODIGO DE NEGOCIACAO DO PAPEL              ESTADO AUX FROZEN\n",
       "0                         PETR4  PROCURANDO ENTRADA   0      0\n",
       "1                         VALE3  PROCURANDO ENTRADA   0      0\n",
       "2                         ITUB4  PROCURANDO ENTRADA   0      0\n",
       "3                         BBDC4  PROCURANDO ENTRADA   0      0\n",
       "4                         BBAS3  PROCURANDO ENTRADA   0      0"
      ]
     },
     "execution_count": 147,
     "metadata": {},
     "output_type": "execute_result"
    }
   ],
   "source": [
    "blue_chips = pd.read_csv('BLUECHIPS')\n",
    "\n",
    "df = pd.DataFrame()\n",
    "df['CODIGO DE NEGOCIACAO DO PAPEL'] = blue_chips['CODIGO DE NEGOCIACAO DO PAPEL'].unique()\n",
    "df['ESTADO'] = 'PROCURANDO ENTRADA'\n",
    "df['AUX'] = '0'\n",
    "df['FROZEN'] = '0'\n",
    "\n",
    "\n",
    "save_dir = 'STRATEGIES/BollingerBandv2'\n",
    "df.to_csv(save_dir,index=False)\n",
    "df.head()"
   ]
  },
  {
   "cell_type": "markdown",
   "metadata": {},
   "source": [
    "# TABELAS DE BACK TEST/OPERAÇÕES"
   ]
  },
  {
   "cell_type": "code",
   "execution_count": 148,
   "metadata": {
    "collapsed": false
   },
   "outputs": [
    {
     "data": {
      "text/html": [
       "<div>\n",
       "<style scoped>\n",
       "    .dataframe tbody tr th:only-of-type {\n",
       "        vertical-align: middle;\n",
       "    }\n",
       "\n",
       "    .dataframe tbody tr th {\n",
       "        vertical-align: top;\n",
       "    }\n",
       "\n",
       "    .dataframe thead th {\n",
       "        text-align: right;\n",
       "    }\n",
       "</style>\n",
       "<table border=\"1\" class=\"dataframe\">\n",
       "  <thead>\n",
       "    <tr style=\"text-align: right;\">\n",
       "      <th></th>\n",
       "      <th>CODIGO DE NEGOCIACAO DO PAPEL</th>\n",
       "      <th>DATA DO PREGAO</th>\n",
       "      <th>PRECO</th>\n",
       "      <th>OPERACAO</th>\n",
       "    </tr>\n",
       "  </thead>\n",
       "  <tbody>\n",
       "    <tr>\n",
       "      <th>0</th>\n",
       "      <td></td>\n",
       "      <td></td>\n",
       "      <td></td>\n",
       "      <td></td>\n",
       "    </tr>\n",
       "  </tbody>\n",
       "</table>\n",
       "</div>"
      ],
      "text/plain": [
       "  CODIGO DE NEGOCIACAO DO PAPEL DATA DO PREGAO PRECO OPERACAO\n",
       "0                                                            "
      ]
     },
     "execution_count": 148,
     "metadata": {},
     "output_type": "execute_result"
    }
   ],
   "source": [
    "df = pd.DataFrame()\n",
    "df['CODIGO DE NEGOCIACAO DO PAPEL'] = ['']\n",
    "df['DATA DO PREGAO'] = ['']\n",
    "df['PRECO'] = ['']\n",
    "df['OPERACAO'] = ['']\n",
    "\n",
    "save_dir = 'BACK_TEST/BollingerBandv2'\n",
    "df.to_csv(save_dir,index=False)\n",
    "df.head()"
   ]
  },
  {
   "cell_type": "markdown",
   "metadata": {},
   "source": [
    "# RESULTADO - GRAFICO PONTOS DE ENTRADA E SAIDA"
   ]
  },
  {
   "cell_type": "code",
   "execution_count": 159,
   "metadata": {
    "collapsed": false
   },
   "outputs": [
    {
     "name": "stdout",
     "output_type": "stream",
     "text": [
      "1088\n"
     ]
    },
    {
     "data": {
      "text/html": [
       "<div>\n",
       "<style scoped>\n",
       "    .dataframe tbody tr th:only-of-type {\n",
       "        vertical-align: middle;\n",
       "    }\n",
       "\n",
       "    .dataframe tbody tr th {\n",
       "        vertical-align: top;\n",
       "    }\n",
       "\n",
       "    .dataframe thead th {\n",
       "        text-align: right;\n",
       "    }\n",
       "</style>\n",
       "<table border=\"1\" class=\"dataframe\">\n",
       "  <thead>\n",
       "    <tr style=\"text-align: right;\">\n",
       "      <th></th>\n",
       "      <th>CODIGO DE NEGOCIACAO DO PAPEL</th>\n",
       "      <th>DATA DO PREGAO</th>\n",
       "      <th>PRECO</th>\n",
       "      <th>OPERACAO</th>\n",
       "    </tr>\n",
       "  </thead>\n",
       "  <tbody>\n",
       "    <tr>\n",
       "      <th>0</th>\n",
       "      <td>ABEV3</td>\n",
       "      <td>2018-03-01</td>\n",
       "      <td>22.529268</td>\n",
       "      <td>SELL</td>\n",
       "    </tr>\n",
       "    <tr>\n",
       "      <th>1</th>\n",
       "      <td>GGBR4</td>\n",
       "      <td>2018-03-01</td>\n",
       "      <td>17.090248</td>\n",
       "      <td>SELL</td>\n",
       "    </tr>\n",
       "    <tr>\n",
       "      <th>2</th>\n",
       "      <td>MGLU3</td>\n",
       "      <td>2018-03-01</td>\n",
       "      <td>90.794397</td>\n",
       "      <td>SELL</td>\n",
       "    </tr>\n",
       "    <tr>\n",
       "      <th>3</th>\n",
       "      <td>GOAU4</td>\n",
       "      <td>2018-03-01</td>\n",
       "      <td>8.114165</td>\n",
       "      <td>SELL</td>\n",
       "    </tr>\n",
       "    <tr>\n",
       "      <th>4</th>\n",
       "      <td>UGPA3</td>\n",
       "      <td>2018-03-01</td>\n",
       "      <td>75.205725</td>\n",
       "      <td>BUY</td>\n",
       "    </tr>\n",
       "  </tbody>\n",
       "</table>\n",
       "</div>"
      ],
      "text/plain": [
       "  CODIGO DE NEGOCIACAO DO PAPEL DATA DO PREGAO      PRECO OPERACAO\n",
       "0                         ABEV3     2018-03-01  22.529268     SELL\n",
       "1                         GGBR4     2018-03-01  17.090248     SELL\n",
       "2                         MGLU3     2018-03-01  90.794397     SELL\n",
       "3                         GOAU4     2018-03-01   8.114165     SELL\n",
       "4                         UGPA3     2018-03-01  75.205725      BUY"
      ]
     },
     "execution_count": 159,
     "metadata": {},
     "output_type": "execute_result"
    }
   ],
   "source": [
    "# Pega ordens:\n",
    "df = pd.read_csv('BACK_TEST/BollingerBandv2')\n",
    "df = df.dropna()\n",
    "df['DATA DO PREGAO'] = df['DATA DO PREGAO'].apply(lambda name: int(name) )\n",
    "save_dir = 'BACK_TEST/BollingerBandv2'\n",
    "df.to_csv(save_dir,index=False)\n",
    "orders_df = pd.read_csv('BACK_TEST/BollingerBandv2', parse_dates=['DATA DO PREGAO'])\n",
    "print(len(orders_df))\n",
    "orders_df.head()"
   ]
  },
  {
   "cell_type": "code",
   "execution_count": 155,
   "metadata": {
    "collapsed": false
   },
   "outputs": [
    {
     "data": {
      "text/html": [
       "<div>\n",
       "<style scoped>\n",
       "    .dataframe tbody tr th:only-of-type {\n",
       "        vertical-align: middle;\n",
       "    }\n",
       "\n",
       "    .dataframe tbody tr th {\n",
       "        vertical-align: top;\n",
       "    }\n",
       "\n",
       "    .dataframe thead th {\n",
       "        text-align: right;\n",
       "    }\n",
       "</style>\n",
       "<table border=\"1\" class=\"dataframe\">\n",
       "  <thead>\n",
       "    <tr style=\"text-align: right;\">\n",
       "      <th></th>\n",
       "      <th>index</th>\n",
       "      <th>CODIGO DE NEGOCIACAO DO PAPEL</th>\n",
       "      <th>DATA DO PREGAO</th>\n",
       "      <th>PRECO</th>\n",
       "      <th>OPERACAO</th>\n",
       "    </tr>\n",
       "  </thead>\n",
       "  <tbody>\n",
       "    <tr>\n",
       "      <th>0</th>\n",
       "      <td>39</td>\n",
       "      <td>SUZB3</td>\n",
       "      <td>2018-03-08</td>\n",
       "      <td>22.962671</td>\n",
       "      <td>SELL</td>\n",
       "    </tr>\n",
       "    <tr>\n",
       "      <th>1</th>\n",
       "      <td>165</td>\n",
       "      <td>SUZB3</td>\n",
       "      <td>2018-04-09</td>\n",
       "      <td>38.050000</td>\n",
       "      <td>BUY</td>\n",
       "    </tr>\n",
       "    <tr>\n",
       "      <th>2</th>\n",
       "      <td>402</td>\n",
       "      <td>SUZB3</td>\n",
       "      <td>2018-06-05</td>\n",
       "      <td>48.409290</td>\n",
       "      <td>SELL</td>\n",
       "    </tr>\n",
       "    <tr>\n",
       "      <th>3</th>\n",
       "      <td>458</td>\n",
       "      <td>SUZB3</td>\n",
       "      <td>2018-06-19</td>\n",
       "      <td>43.824750</td>\n",
       "      <td>BUY</td>\n",
       "    </tr>\n",
       "    <tr>\n",
       "      <th>4</th>\n",
       "      <td>539</td>\n",
       "      <td>SUZB3</td>\n",
       "      <td>2018-07-18</td>\n",
       "      <td>41.154368</td>\n",
       "      <td>BUY</td>\n",
       "    </tr>\n",
       "    <tr>\n",
       "      <th>5</th>\n",
       "      <td>582</td>\n",
       "      <td>SUZB3</td>\n",
       "      <td>2018-07-31</td>\n",
       "      <td>44.634500</td>\n",
       "      <td>SELL</td>\n",
       "    </tr>\n",
       "    <tr>\n",
       "      <th>6</th>\n",
       "      <td>629</td>\n",
       "      <td>SUZB3</td>\n",
       "      <td>2018-08-13</td>\n",
       "      <td>46.849618</td>\n",
       "      <td>SELL</td>\n",
       "    </tr>\n",
       "    <tr>\n",
       "      <th>7</th>\n",
       "      <td>642</td>\n",
       "      <td>SUZB3</td>\n",
       "      <td>2018-08-15</td>\n",
       "      <td>43.905000</td>\n",
       "      <td>BUY</td>\n",
       "    </tr>\n",
       "    <tr>\n",
       "      <th>8</th>\n",
       "      <td>663</td>\n",
       "      <td>SUZB3</td>\n",
       "      <td>2018-08-21</td>\n",
       "      <td>47.153261</td>\n",
       "      <td>SELL</td>\n",
       "    </tr>\n",
       "    <tr>\n",
       "      <th>9</th>\n",
       "      <td>764</td>\n",
       "      <td>SUZB3</td>\n",
       "      <td>2018-09-20</td>\n",
       "      <td>47.485500</td>\n",
       "      <td>BUY</td>\n",
       "    </tr>\n",
       "    <tr>\n",
       "      <th>10</th>\n",
       "      <td>847</td>\n",
       "      <td>SUZB3</td>\n",
       "      <td>2018-10-04</td>\n",
       "      <td>42.265624</td>\n",
       "      <td>BUY</td>\n",
       "    </tr>\n",
       "    <tr>\n",
       "      <th>11</th>\n",
       "      <td>968</td>\n",
       "      <td>SUZB3</td>\n",
       "      <td>2018-11-06</td>\n",
       "      <td>38.270000</td>\n",
       "      <td>SELL</td>\n",
       "    </tr>\n",
       "  </tbody>\n",
       "</table>\n",
       "</div>"
      ],
      "text/plain": [
       "    index CODIGO DE NEGOCIACAO DO PAPEL DATA DO PREGAO      PRECO OPERACAO\n",
       "0      39                         SUZB3     2018-03-08  22.962671     SELL\n",
       "1     165                         SUZB3     2018-04-09  38.050000      BUY\n",
       "2     402                         SUZB3     2018-06-05  48.409290     SELL\n",
       "3     458                         SUZB3     2018-06-19  43.824750      BUY\n",
       "4     539                         SUZB3     2018-07-18  41.154368      BUY\n",
       "5     582                         SUZB3     2018-07-31  44.634500     SELL\n",
       "6     629                         SUZB3     2018-08-13  46.849618     SELL\n",
       "7     642                         SUZB3     2018-08-15  43.905000      BUY\n",
       "8     663                         SUZB3     2018-08-21  47.153261     SELL\n",
       "9     764                         SUZB3     2018-09-20  47.485500      BUY\n",
       "10    847                         SUZB3     2018-10-04  42.265624      BUY\n",
       "11    968                         SUZB3     2018-11-06  38.270000     SELL"
      ]
     },
     "execution_count": 155,
     "metadata": {},
     "output_type": "execute_result"
    }
   ],
   "source": [
    "# Pegando as ordens\n",
    "df = pd.read_csv('BACK_TEST/BollingerBandv2')\n",
    "df = df.dropna()\n",
    "df['DATA DO PREGAO'] = df['DATA DO PREGAO'].apply(lambda name: int(name) )\n",
    "save_dir = 'BACK_TEST/BollingerBandv2'\n",
    "df.to_csv(save_dir,index=False)\n",
    "orders_df = pd.read_csv('BACK_TEST/BollingerBandv2', parse_dates=['DATA DO PREGAO'])\n",
    "orders_df = orders_df[df['CODIGO DE NEGOCIACAO DO PAPEL'] == 'SUZB3'].reset_index()\n",
    "orders_df"
   ]
  },
  {
   "cell_type": "code",
   "execution_count": 156,
   "metadata": {
    "collapsed": true
   },
   "outputs": [],
   "source": [
    "# Pegando os dados\n",
    "stock = pd.read_csv('HISTORICO_2018/SUZB3_2018', index_col = 'DATA DO PREGAO', parse_dates=True)\n",
    "stock['date_ax'] = stock.index\n",
    "stock['date_ax'] = stock['date_ax'].apply(lambda date: date2num(date))\n",
    "\n",
    "\n",
    "# Intervalo desejado\n",
    "stock = stock.loc['2018-03-01' : '2018-12-28'].reset_index()\n",
    "\n",
    "candle_values = [tuple(vals) for vals in stock[['date_ax', 'PRECO DE ABERTURA', 'PRECO MAXIMO', 'PRECO MINIMO', 'PRECO FECHAMENTO']].values]\n"
   ]
  },
  {
   "cell_type": "code",
   "execution_count": 157,
   "metadata": {
    "collapsed": false
   },
   "outputs": [
    {
     "data": {
      "image/png": "[encoded data removed]",
      "text/plain": [
       "<matplotlib.figure.Figure at 0x1978a940>"
      ]
     },
     "metadata": {},
     "output_type": "display_data"
    }
   ],
   "source": [
    "import matplotlib.dates as mdates\n",
    "\n",
    "fig, ax = plt.subplots(ncols=1, figsize=(14, 6))\n",
    "\n",
    "# Parâmetros pro candle plot\n",
    "fmt='%b %d'\n",
    "freq=3\n",
    "width=0.55\n",
    "ohlc_data = candle_values\n",
    "\n",
    "# Remover Final de Semana\n",
    "# Convert data to numpy array \n",
    "ohlc_data_arr = np.array(ohlc_data)\n",
    "ohlc_data_arr2 = np.hstack(\n",
    "    [np.arange(ohlc_data_arr[:,0].size)[:,np.newaxis], ohlc_data_arr[:,1:]])\n",
    "ndays = ohlc_data_arr2[:,0]  # array([0, 1, 2, ... n-2, n-1, n])\n",
    "\n",
    "# Convert matplotlib date numbers to strings based on `fmt`\n",
    "dates = mdates.num2date(ohlc_data_arr[:,0])\n",
    "date_strings = []\n",
    "for date in dates:\n",
    "    date_strings.append(date.strftime(fmt))\n",
    "\n",
    "# Plot candlestick chart\n",
    "candle.candlestick_ohlc(ax, ohlc_data_arr2, width, colorup = 'g', colordown = 'r')\n",
    "plt.grid()\n",
    "\n",
    "mondays = WeekdayLocator(MONDAY)        # major ticks on the mondays\n",
    "alldays = DayLocator()              # minor ticks on the days\n",
    "weekFormatter = DateFormatter('%b %d')  # e.g., Jan 12\n",
    "dayFormatter = DateFormatter('%d')      # e.g., 12\n",
    "\n",
    "ax.xaxis.set_major_locator(mondays)\n",
    "ax.xaxis.set_minor_locator(alldays)\n",
    "ax.xaxis.set_major_formatter(weekFormatter)\n",
    "\n",
    "# Plot indicadores\n",
    "ax.plot(ohlc_data_arr2[:,0],stock['MA_40'], color = \"orange\")\n",
    "ax.plot(ohlc_data_arr2[:,0],stock['BANDA_1_40 SUPERIOR'], color = \"blue\")\n",
    "ax.plot(ohlc_data_arr2[:,0],stock['BANDA_1_40 INFERIOR'], color = \"blue\")\n",
    "\n",
    "# Formating\n",
    "ax.set_xticks(ndays[::freq])\n",
    "ax.set_xticklabels(date_strings[::freq], rotation=45, ha='right', fontsize='medium')\n",
    "ax.set_xlim(ndays.min(), ndays.max())\n",
    "ax.set_title(stock['NOME RESUMIDO DA EMPRESA EMISSORA'].iloc[0] + \" 2018\")\n",
    "plt.tight_layout()\n",
    "plt.grid()\n",
    "\n",
    "# Adjusting order index\n",
    "new_order_id = []\n",
    "order_id = 0\n",
    "for each in range(len(stock)):\n",
    "    if orders_df['DATA DO PREGAO'].iloc[order_id] == stock['DATA DO PREGAO'].iloc[each]:\n",
    "        new_order_id.append(each)\n",
    "        order_id = order_id + 1\n",
    "    if order_id >= len(orders_df):\n",
    "        break\n",
    "    \n",
    "\n",
    "# Plot ordens\n",
    "\n",
    "for each_order in range(len(new_order_id)):\n",
    "    if orders_df['OPERACAO'].iloc[each_order] == 'SELL':\n",
    "        cor = 'red'\n",
    "    else:\n",
    "        cor = 'green'\n",
    "    ax.scatter(new_order_id[each_order],orders_df['PRECO'].iloc[each_order], s=700, c=cor, alpha=.4)\n",
    "plt.grid()\n"
   ]
  },
  {
   "cell_type": "markdown",
   "metadata": {},
   "source": [
    "# ANALISE QUALITATIVA"
   ]
  },
  {
   "cell_type": "code",
   "execution_count": 160,
   "metadata": {
    "collapsed": false
   },
   "outputs": [
    {
     "name": "stdout",
     "output_type": "stream",
     "text": [
      "1088\n"
     ]
    },
    {
     "data": {
      "text/html": [
       "<div>\n",
       "<style scoped>\n",
       "    .dataframe tbody tr th:only-of-type {\n",
       "        vertical-align: middle;\n",
       "    }\n",
       "\n",
       "    .dataframe tbody tr th {\n",
       "        vertical-align: top;\n",
       "    }\n",
       "\n",
       "    .dataframe thead th {\n",
       "        text-align: right;\n",
       "    }\n",
       "</style>\n",
       "<table border=\"1\" class=\"dataframe\">\n",
       "  <thead>\n",
       "    <tr style=\"text-align: right;\">\n",
       "      <th></th>\n",
       "      <th>CODIGO DE NEGOCIACAO DO PAPEL</th>\n",
       "      <th>DATA DO PREGAO</th>\n",
       "      <th>PRECO</th>\n",
       "      <th>OPERACAO</th>\n",
       "    </tr>\n",
       "  </thead>\n",
       "  <tbody>\n",
       "    <tr>\n",
       "      <th>0</th>\n",
       "      <td>ABEV3</td>\n",
       "      <td>2018-03-01</td>\n",
       "      <td>22.529268</td>\n",
       "      <td>SELL</td>\n",
       "    </tr>\n",
       "    <tr>\n",
       "      <th>1</th>\n",
       "      <td>GGBR4</td>\n",
       "      <td>2018-03-01</td>\n",
       "      <td>17.090248</td>\n",
       "      <td>SELL</td>\n",
       "    </tr>\n",
       "    <tr>\n",
       "      <th>2</th>\n",
       "      <td>MGLU3</td>\n",
       "      <td>2018-03-01</td>\n",
       "      <td>90.794397</td>\n",
       "      <td>SELL</td>\n",
       "    </tr>\n",
       "    <tr>\n",
       "      <th>3</th>\n",
       "      <td>GOAU4</td>\n",
       "      <td>2018-03-01</td>\n",
       "      <td>8.114165</td>\n",
       "      <td>SELL</td>\n",
       "    </tr>\n",
       "    <tr>\n",
       "      <th>4</th>\n",
       "      <td>UGPA3</td>\n",
       "      <td>2018-03-01</td>\n",
       "      <td>75.205725</td>\n",
       "      <td>BUY</td>\n",
       "    </tr>\n",
       "  </tbody>\n",
       "</table>\n",
       "</div>"
      ],
      "text/plain": [
       "  CODIGO DE NEGOCIACAO DO PAPEL DATA DO PREGAO      PRECO OPERACAO\n",
       "0                         ABEV3     2018-03-01  22.529268     SELL\n",
       "1                         GGBR4     2018-03-01  17.090248     SELL\n",
       "2                         MGLU3     2018-03-01  90.794397     SELL\n",
       "3                         GOAU4     2018-03-01   8.114165     SELL\n",
       "4                         UGPA3     2018-03-01  75.205725      BUY"
      ]
     },
     "execution_count": 160,
     "metadata": {},
     "output_type": "execute_result"
    }
   ],
   "source": [
    "# Pega ordens:\n",
    "df = pd.read_csv('BACK_TEST/BollingerBandv2')\n",
    "df = df.dropna()\n",
    "df['DATA DO PREGAO'] = df['DATA DO PREGAO'].apply(lambda name: int(name) )\n",
    "save_dir = 'BACK_TEST/BollingerBandv2'\n",
    "df.to_csv(save_dir,index=False)\n",
    "orders_df = pd.read_csv('BACK_TEST/BollingerBandv2', parse_dates=['DATA DO PREGAO'])\n",
    "print(len(orders_df))\n",
    "orders_df.head()"
   ]
  },
  {
   "cell_type": "code",
   "execution_count": 161,
   "metadata": {
    "collapsed": true
   },
   "outputs": [],
   "source": [
    "# Pega id das ordens não fechadas\n",
    "id_to_remove = []\n",
    "blue_chips = pd.read_csv('BLUECHIPS')\n",
    "for bc_code in blue_chips['CODIGO DE NEGOCIACAO DO PAPEL']:\n",
    "    df = orders_df[orders_df['CODIGO DE NEGOCIACAO DO PAPEL'] == bc_code].reset_index()\n",
    "    if len(df)%2:\n",
    "        id_to_remove.append(df.iloc[len(df)-1]['index'])"
   ]
  },
  {
   "cell_type": "code",
   "execution_count": 162,
   "metadata": {
    "collapsed": false
   },
   "outputs": [
    {
     "name": "stdout",
     "output_type": "stream",
     "text": [
      "1062\n"
     ]
    }
   ],
   "source": [
    "# Remove as ordens nao fechadas pelo id\n",
    "lucro = 0\n",
    "id_to_remove.sort(reverse=True)\n",
    "for each_id in id_to_remove:\n",
    "    orders_df = orders_df.drop(orders_df.index[each_id])\n",
    "id_to_remove = []\n",
    "print(len(orders_df))"
   ]
  },
  {
   "cell_type": "code",
   "execution_count": 163,
   "metadata": {
    "collapsed": false
   },
   "outputs": [
    {
     "name": "stdout",
     "output_type": "stream",
     "text": [
      "Pessimas operacoes: SUZB3\n",
      "Pessimas operacoes: ELPL3\n"
     ]
    }
   ],
   "source": [
    "# Armazena os lucros individuais de cada ordem\n",
    "\n",
    "ordem_fechada = []\n",
    "for bc_code in blue_chips['CODIGO DE NEGOCIACAO DO PAPEL']:\n",
    "    df = orders_df[orders_df['CODIGO DE NEGOCIACAO DO PAPEL'] == bc_code].reset_index()\n",
    "    for i in range(int(len(df)/2)):\n",
    "        i = i*2\n",
    "        if df.iloc[i]['OPERACAO'] == 'BUY':\n",
    "            # Se eu comprei antes, lucro = venda futura - compra presente\n",
    "            lucro = (df.iloc[i+1]['PRECO'] - df.iloc[i]['PRECO'])/df.iloc[i]['PRECO']\n",
    "        else:\n",
    "            # Se eu vendi antes, lucro = venda atual - compra futura\n",
    "            lucro = (df.iloc[i]['PRECO'] - df.iloc[i+1]['PRECO'])/df.iloc[i]['PRECO']\n",
    "        ordem_fechada.append(lucro*100)\n",
    "        \n",
    "        if lucro*100 < -50:\n",
    "            print(\"Pessimas operacoes: \" + df.iloc[i]['CODIGO DE NEGOCIACAO DO PAPEL'])"
   ]
  },
  {
   "cell_type": "code",
   "execution_count": 164,
   "metadata": {
    "collapsed": false
   },
   "outputs": [
    {
     "name": "stdout",
     "output_type": "stream",
     "text": [
      "Quantidade de ordens: 531\n",
      "Média de lucro das ordens: -0.9431086648648241\n",
      "Somatório de lucro individual: -500.79070104322165\n"
     ]
    },
    {
     "data": {
      "text/plain": [
       "<Container object of 531 artists>"
      ]
     },
     "execution_count": 164,
     "metadata": {},
     "output_type": "execute_result"
    },
    {
     "data": {
      "image/png": "[encoded data removed]",
      "text/plain": [
       "<matplotlib.figure.Figure at 0x69975c0>"
      ]
     },
     "metadata": {},
     "output_type": "display_data"
    }
   ],
   "source": [
    "print(\"Quantidade de ordens: \" + str(len(ordem_fechada)))\n",
    "print(\"Média de lucro das ordens: \" + str(sum(ordem_fechada)/len(ordem_fechada)))\n",
    "print(\"Somatório de lucro individual: \" + str(sum(ordem_fechada)))\n",
    "x_values = np.arange(len(ordem_fechada))\n",
    "\n",
    "params = {'legend.fontsize': 'medium',\n",
    "          'figure.figsize': (15, 5),\n",
    "         'axes.labelsize': 'medium',\n",
    "         'axes.titlesize':'x-large',\n",
    "         'xtick.labelsize':'medium',\n",
    "         'ytick.labelsize':'medium'}\n",
    "plt.rcParams.update(params)\n",
    "\n",
    "plt.bar(x_values, ordem_fechada, align='center', alpha=0.5)"
   ]
  },
  {
   "cell_type": "code",
   "execution_count": 165,
   "metadata": {
    "collapsed": false
   },
   "outputs": [
    {
     "data": {
      "text/plain": [
       "(array([ 1.,  0.,  0.,  1.,  0.,  0.,  0.,  0.,  0.,  0.,  0.,  0.,  0.,\n",
       "         0.,  0.,  0.,  0.,  0.,  0.,  0.,  0.,  0.,  0.,  0.,  0.,  0.,\n",
       "         0.,  0.,  0.,  0.,  0.,  0.,  0.,  0.,  0.,  0.,  0.,  0.,  0.,\n",
       "         0.,  0.,  1.,  0.,  0.,  0.,  0.,  0.,  0.,  0.,  0.,  0.,  0.,\n",
       "         0.,  0.,  0.,  0.,  0.,  0.,  0.,  0.,  0.,  0.,  0.,  1.,  0.,\n",
       "         0.,  0.,  0.,  0.,  1.,  0.,  0.,  0.,  1.,  0.,  0.,  0.,  0.,\n",
       "         0.,  0.,  0.,  0.,  1.,  0.,  0.,  2.,  1.,  0.,  0.,  0.,  0.,\n",
       "         0.,  1.,  1.,  1.,  2.,  0.,  1.,  2.,  2.,  1.,  0.,  1.,  0.,\n",
       "         1.,  1.,  1.,  2.,  0.,  3.,  2.,  5.,  1.,  0.,  1.,  0.,  1.,\n",
       "         5.,  1.,  2.,  1.,  2.,  3.,  2.,  3.,  3.,  6.,  8.,  2.,  1.,\n",
       "        11.,  3.,  7.,  6.,  4.,  7.,  2.,  4.,  4.,  9.,  4.,  6.,  4.,\n",
       "         3.,  4.,  5.,  6.,  3.,  3.,  6.,  3.,  2.,  5., 11.,  3.,  5.,\n",
       "         1.,  8.,  5.,  9., 12., 18., 22., 20., 24., 19., 17., 19., 20.,\n",
       "        11., 24., 16.,  8., 11., 14.,  8.,  5.,  4.,  4.,  3.,  4.,  3.,\n",
       "         5.,  0.,  1.,  2.,  0.,  1.,  0.,  0.,  0.,  1.,  1.,  0.,  0.,\n",
       "         0.,  0.,  1.,  0.,  1.]),\n",
       " array([-67.12871287, -66.69621272, -66.26371256, -65.8312124 ,\n",
       "        -65.39871225, -64.96621209, -64.53371194, -64.10121178,\n",
       "        -63.66871163, -63.23621147, -62.80371132, -62.37121116,\n",
       "        -61.93871101, -61.50621085, -61.07371069, -60.64121054,\n",
       "        -60.20871038, -59.77621023, -59.34371007, -58.91120992,\n",
       "        -58.47870976, -58.04620961, -57.61370945, -57.18120929,\n",
       "        -56.74870914, -56.31620898, -55.88370883, -55.45120867,\n",
       "        -55.01870852, -54.58620836, -54.15370821, -53.72120805,\n",
       "        -53.28870789, -52.85620774, -52.42370758, -51.99120743,\n",
       "        -51.55870727, -51.12620712, -50.69370696, -50.26120681,\n",
       "        -49.82870665, -49.3962065 , -48.96370634, -48.53120618,\n",
       "        -48.09870603, -47.66620587, -47.23370572, -46.80120556,\n",
       "        -46.36870541, -45.93620525, -45.5037051 , -45.07120494,\n",
       "        -44.63870478, -44.20620463, -43.77370447, -43.34120432,\n",
       "        -42.90870416, -42.47620401, -42.04370385, -41.6112037 ,\n",
       "        -41.17870354, -40.74620338, -40.31370323, -39.88120307,\n",
       "        -39.44870292, -39.01620276, -38.58370261, -38.15120245,\n",
       "        -37.7187023 , -37.28620214, -36.85370199, -36.42120183,\n",
       "        -35.98870167, -35.55620152, -35.12370136, -34.69120121,\n",
       "        -34.25870105, -33.8262009 , -33.39370074, -32.96120059,\n",
       "        -32.52870043, -32.09620027, -31.66370012, -31.23119996,\n",
       "        -30.79869981, -30.36619965, -29.9336995 , -29.50119934,\n",
       "        -29.06869919, -28.63619903, -28.20369887, -27.77119872,\n",
       "        -27.33869856, -26.90619841, -26.47369825, -26.0411981 ,\n",
       "        -25.60869794, -25.17619779, -24.74369763, -24.31119748,\n",
       "        -23.87869732, -23.44619716, -23.01369701, -22.58119685,\n",
       "        -22.1486967 , -21.71619654, -21.28369639, -20.85119623,\n",
       "        -20.41869608, -19.98619592, -19.55369576, -19.12119561,\n",
       "        -18.68869545, -18.2561953 , -17.82369514, -17.39119499,\n",
       "        -16.95869483, -16.52619468, -16.09369452, -15.66119436,\n",
       "        -15.22869421, -14.79619405, -14.3636939 , -13.93119374,\n",
       "        -13.49869359, -13.06619343, -12.63369328, -12.20119312,\n",
       "        -11.76869297, -11.33619281, -10.90369265, -10.4711925 ,\n",
       "        -10.03869234,  -9.60619219,  -9.17369203,  -8.74119188,\n",
       "         -8.30869172,  -7.87619157,  -7.44369141,  -7.01119125,\n",
       "         -6.5786911 ,  -6.14619094,  -5.71369079,  -5.28119063,\n",
       "         -4.84869048,  -4.41619032,  -3.98369017,  -3.55119001,\n",
       "         -3.11868985,  -2.6861897 ,  -2.25368954,  -1.82118939,\n",
       "         -1.38868923,  -0.95618908,  -0.52368892,  -0.09118877,\n",
       "          0.34131139,   0.77381154,   1.2063117 ,   1.63881186,\n",
       "          2.07131201,   2.50381217,   2.93631232,   3.36881248,\n",
       "          3.80131263,   4.23381279,   4.66631294,   5.0988131 ,\n",
       "          5.53131326,   5.96381341,   6.39631357,   6.82881372,\n",
       "          7.26131388,   7.69381403,   8.12631419,   8.55881434,\n",
       "          8.9913145 ,   9.42381466,   9.85631481,  10.28881497,\n",
       "         10.72131512,  11.15381528,  11.58631543,  12.01881559,\n",
       "         12.45131574,  12.8838159 ,  13.31631605,  13.74881621,\n",
       "         14.18131637,  14.61381652,  15.04631668,  15.47881683,\n",
       "         15.91131699,  16.34381714,  16.7763173 ,  17.20881745,\n",
       "         17.64131761,  18.07381777,  18.50631792,  18.93881808,\n",
       "         19.37131823]),\n",
       " <a list of 200 Patch objects>)"
      ]
     },
     "execution_count": 165,
     "metadata": {},
     "output_type": "execute_result"
    },
    {
     "data": {
      "image/png": "[encoded data removed]",
      "text/plain": [
       "<matplotlib.figure.Figure at 0x1389d208>"
      ]
     },
     "metadata": {},
     "output_type": "display_data"
    }
   ],
   "source": [
    "plt.hist(ordem_fechada,bins=200)"
   ]
  },
  {
   "cell_type": "code",
   "execution_count": 166,
   "metadata": {
    "collapsed": true
   },
   "outputs": [],
   "source": [
    "# Carteira inicial R$ 1.000.000\n",
    "melhor_carteira = 0\n",
    "best_p = 0\n",
    "carteiras = []\n",
    "for porcentagem in range(250):\n",
    "    porcentagem = porcentagem + 20\n",
    "    carteira = 1000000\n",
    "    carteira_hist = [1000000]\n",
    "    for i in range(len(orders_df)):\n",
    "        order = orders_df.iloc[i]\n",
    "        disponivel = carteira/porcentagem\n",
    "        quantidade_papel = round(disponivel/order['PRECO'])\n",
    "        if order['OPERACAO'] == 'BUY':\n",
    "            carteira = carteira - quantidade_papel* order['PRECO']\n",
    "        elif order['OPERACAO'] == 'SELL':\n",
    "            carteira = carteira + quantidade_papel* order['PRECO']\n",
    "        carteira_hist.append(carteira) \n",
    "    if carteira > melhor_carteira:\n",
    "        melhor_carteira = carteira\n",
    "        best_p = porcentagem\n",
    "    carteiras.append(carteira)"
   ]
  },
  {
   "cell_type": "code",
   "execution_count": 167,
   "metadata": {
    "collapsed": false
   },
   "outputs": [
    {
     "name": "stdout",
     "output_type": "stream",
     "text": [
      "269\n",
      "Valor final da carteira: \n",
      "993015.2991408268\n",
      "\n",
      "Porcentagem em cada operação: \n",
      "0.37174721189591076\n"
     ]
    },
    {
     "data": {
      "text/plain": [
       "-0.6984700859173201"
      ]
     },
     "execution_count": 167,
     "metadata": {},
     "output_type": "execute_result"
    }
   ],
   "source": [
    "print(best_p)\n",
    "print(\"Valor final da carteira: \")\n",
    "print(melhor_carteira)\n",
    "print(\"\\nPorcentagem em cada operação: \")\n",
    "print(100/best_p)\n",
    "\n",
    "((melhor_carteira - 1000000)/1000000) * 100"
   ]
  },
  {
   "cell_type": "code",
   "execution_count": 168,
   "metadata": {
    "collapsed": false
   },
   "outputs": [
    {
     "data": {
      "text/plain": [
       "993015.2991408268"
      ]
     },
     "execution_count": 168,
     "metadata": {},
     "output_type": "execute_result"
    }
   ],
   "source": [
    "carteira = 1000000\n",
    "carteira_hist = [1000000]\n",
    "for i in range(len(orders_df)):\n",
    "    order = orders_df.iloc[i]\n",
    "    disponivel = carteira/best_p\n",
    "    quantidade_papel = round(disponivel/order['PRECO'])\n",
    "    if order['OPERACAO'] == 'BUY':\n",
    "        carteira = carteira - quantidade_papel* order['PRECO']\n",
    "    elif order['OPERACAO'] == 'SELL':\n",
    "        carteira = carteira + quantidade_papel* order['PRECO']\n",
    "    carteira_hist.append(carteira)\n",
    "carteira"
   ]
  },
  {
   "cell_type": "code",
   "execution_count": 169,
   "metadata": {
    "collapsed": false
   },
   "outputs": [
    {
     "data": {
      "image/png": "[encoded data removed]",
      "text/plain": [
       "<matplotlib.figure.Figure at 0x19d5de80>"
      ]
     },
     "metadata": {},
     "output_type": "display_data"
    }
   ],
   "source": [
    "plt.plot(carteira_hist)\n",
    "plt.grid()\n"
   ]
  },
  {
   "cell_type": "code",
   "execution_count": 146,
   "metadata": {
    "collapsed": false
   },
   "outputs": [
    {
     "data": {
      "image/png": "[encoded data removed]",
      "text/plain": [
       "<matplotlib.figure.Figure at 0x196b4160>"
      ]
     },
     "metadata": {},
     "output_type": "display_data"
    }
   ],
   "source": [
    "plt.plot(carteiras)\n",
    "plt.grid()\n"
   ]
  },
  {
   "cell_type": "code",
   "execution_count": null,
   "metadata": {
    "collapsed": true
   },
   "outputs": [],
   "source": []
  }
 ],
 "metadata": {
  "kernelspec": {
   "display_name": "Python 3",
   "language": "python",
   "name": "python3"
  },
  "language_info": {
   "codemirror_mode": {
    "name": "ipython",
    "version": 3
   },
   "file_extension": ".py",
   "mimetype": "text/x-python",
   "name": "python",
   "nbconvert_exporter": "python",
   "pygments_lexer": "ipython3",
   "version": "3.6.0"
  }
 },
 "nbformat": 4,
 "nbformat_minor": 2
}
