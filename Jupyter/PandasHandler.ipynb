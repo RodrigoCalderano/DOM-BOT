{
 "cells": [
  {
   "cell_type": "markdown",
   "metadata": {},
   "source": [
    "# PANDA HANDLER"
   ]
  },
  {
   "cell_type": "markdown",
   "metadata": {},
   "source": []
  },
  {
   "cell_type": "code",
   "execution_count": 2,
   "metadata": {
    "collapsed": false
   },
   "outputs": [],
   "source": [
    "import seaborn as sns\n",
    "import pandas as pd\n",
    "import numpy as np\n",
    "import matplotlib.pylab as plt\n",
    "import matplotlib.dates as dates\n",
    "\n",
    "%matplotlib inline"
   ]
  },
  {
   "cell_type": "code",
   "execution_count": 3,
   "metadata": {
    "collapsed": true
   },
   "outputs": [],
   "source": [
    "df = pd.read_excel('BMF2018.xltx')"
   ]
  },
  {
   "cell_type": "markdown",
   "metadata": {},
   "source": [
    "# PEGANDO BLUE CHIPS"
   ]
  },
  {
   "cell_type": "code",
   "execution_count": 4,
   "metadata": {
    "collapsed": false
   },
   "outputs": [
    {
     "data": {
      "text/html": [
       "<div>\n",
       "<style scoped>\n",
       "    .dataframe tbody tr th:only-of-type {\n",
       "        vertical-align: middle;\n",
       "    }\n",
       "\n",
       "    .dataframe tbody tr th {\n",
       "        vertical-align: top;\n",
       "    }\n",
       "\n",
       "    .dataframe thead th {\n",
       "        text-align: right;\n",
       "    }\n",
       "</style>\n",
       "<table border=\"1\" class=\"dataframe\">\n",
       "  <thead>\n",
       "    <tr style=\"text-align: right;\">\n",
       "      <th></th>\n",
       "      <th>TIPO DE REGISTRO</th>\n",
       "      <th>DATA DO PREGAO</th>\n",
       "      <th>CODIGO BDI</th>\n",
       "      <th>CODIGO DE NEGOGIACAO DO PAPEL</th>\n",
       "      <th>TIPO DE MERCADO</th>\n",
       "      <th>NOME RESUMIDO DA EMPRESA EMISSORA</th>\n",
       "      <th>ESPECIFICACAO DO PAPEL</th>\n",
       "      <th>MOEDA DE REFERENCIA</th>\n",
       "      <th>PRECO DE ABERTURA</th>\n",
       "      <th>PRECO MAXIMO</th>\n",
       "      <th>...</th>\n",
       "      <th>PRECO MELHOR OFERTA COMPRA</th>\n",
       "      <th>PRECO MELHOR OFERTA DE VENDA</th>\n",
       "      <th>NUMERO DE NEGOCIOS EFETUADOS COM O PAPEL</th>\n",
       "      <th>QUANTIDADE TOTAL DE TITULOS NEGOCIADOS</th>\n",
       "      <th>VOLUME TOTAL DE TITULOS NEGOCIADOS NESTE PAPEL</th>\n",
       "      <th>PRECO DE EXERCICIO OPCAO</th>\n",
       "      <th>Unnamed: 19</th>\n",
       "      <th>Unnamed: 20</th>\n",
       "      <th>CODIGO DO PAPEL NO SISTEMA</th>\n",
       "      <th>NUMERO DE DISTRIBUICAO DO PAPEL</th>\n",
       "    </tr>\n",
       "  </thead>\n",
       "  <tbody>\n",
       "    <tr>\n",
       "      <th>580151</th>\n",
       "      <td>1</td>\n",
       "      <td>20181228</td>\n",
       "      <td>12.0</td>\n",
       "      <td>XPLG11</td>\n",
       "      <td>10</td>\n",
       "      <td>FII XP LOG</td>\n",
       "      <td>CI</td>\n",
       "      <td>R$</td>\n",
       "      <td>10000.0</td>\n",
       "      <td>10030.0</td>\n",
       "      <td>...</td>\n",
       "      <td>10000.0</td>\n",
       "      <td>10030.0</td>\n",
       "      <td>804.0</td>\n",
       "      <td>17310.0</td>\n",
       "      <td>172940811.0</td>\n",
       "      <td>0.0</td>\n",
       "      <td>9.999123e+14</td>\n",
       "      <td>0.0</td>\n",
       "      <td>BRXPLGCTF002</td>\n",
       "      <td>106.0</td>\n",
       "    </tr>\n",
       "    <tr>\n",
       "      <th>580152</th>\n",
       "      <td>1</td>\n",
       "      <td>20181228</td>\n",
       "      <td>12.0</td>\n",
       "      <td>XPML11</td>\n",
       "      <td>10</td>\n",
       "      <td>FII XP MALLS</td>\n",
       "      <td>CI  ER</td>\n",
       "      <td>R$</td>\n",
       "      <td>10790.0</td>\n",
       "      <td>10800.0</td>\n",
       "      <td>...</td>\n",
       "      <td>10750.0</td>\n",
       "      <td>10780.0</td>\n",
       "      <td>1321.0</td>\n",
       "      <td>20067.0</td>\n",
       "      <td>215038945.0</td>\n",
       "      <td>0.0</td>\n",
       "      <td>9.999123e+14</td>\n",
       "      <td>0.0</td>\n",
       "      <td>BRXPMLCTF000</td>\n",
       "      <td>113.0</td>\n",
       "    </tr>\n",
       "    <tr>\n",
       "      <th>580153</th>\n",
       "      <td>1</td>\n",
       "      <td>20181228</td>\n",
       "      <td>14.0</td>\n",
       "      <td>XPOM11</td>\n",
       "      <td>10</td>\n",
       "      <td>FIP XP OMEGA</td>\n",
       "      <td>CI</td>\n",
       "      <td>R$</td>\n",
       "      <td>10301.0</td>\n",
       "      <td>10301.0</td>\n",
       "      <td>...</td>\n",
       "      <td>10300.0</td>\n",
       "      <td>10599.0</td>\n",
       "      <td>5.0</td>\n",
       "      <td>494.0</td>\n",
       "      <td>5088600.0</td>\n",
       "      <td>0.0</td>\n",
       "      <td>9.999123e+14</td>\n",
       "      <td>0.0</td>\n",
       "      <td>BRXPOMCTF004</td>\n",
       "      <td>115.0</td>\n",
       "    </tr>\n",
       "    <tr>\n",
       "      <th>580154</th>\n",
       "      <td>1</td>\n",
       "      <td>20181228</td>\n",
       "      <td>12.0</td>\n",
       "      <td>XTED11</td>\n",
       "      <td>10</td>\n",
       "      <td>FII TRXE COR</td>\n",
       "      <td>CI</td>\n",
       "      <td>R$</td>\n",
       "      <td>1751.0</td>\n",
       "      <td>1790.0</td>\n",
       "      <td>...</td>\n",
       "      <td>1751.0</td>\n",
       "      <td>1790.0</td>\n",
       "      <td>23.0</td>\n",
       "      <td>222.0</td>\n",
       "      <td>390676.0</td>\n",
       "      <td>0.0</td>\n",
       "      <td>9.999123e+14</td>\n",
       "      <td>0.0</td>\n",
       "      <td>BRXTEDCTF006</td>\n",
       "      <td>143.0</td>\n",
       "    </tr>\n",
       "    <tr>\n",
       "      <th>580155</th>\n",
       "      <td>99</td>\n",
       "      <td>COTAHIST</td>\n",
       "      <td>0.2</td>\n",
       "      <td>018BOVESPA 2</td>\n",
       "      <td>18</td>\n",
       "      <td>122800000580</td>\n",
       "      <td>157</td>\n",
       "      <td>NaN</td>\n",
       "      <td>NaN</td>\n",
       "      <td>NaN</td>\n",
       "      <td>...</td>\n",
       "      <td>NaN</td>\n",
       "      <td>NaN</td>\n",
       "      <td>NaN</td>\n",
       "      <td>NaN</td>\n",
       "      <td>NaN</td>\n",
       "      <td>NaN</td>\n",
       "      <td>NaN</td>\n",
       "      <td>NaN</td>\n",
       "      <td>NaN</td>\n",
       "      <td>NaN</td>\n",
       "    </tr>\n",
       "  </tbody>\n",
       "</table>\n",
       "<p>5 rows × 23 columns</p>\n",
       "</div>"
      ],
      "text/plain": [
       "        TIPO DE REGISTRO DATA DO PREGAO  CODIGO BDI  \\\n",
       "580151                 1       20181228        12.0   \n",
       "580152                 1       20181228        12.0   \n",
       "580153                 1       20181228        14.0   \n",
       "580154                 1       20181228        12.0   \n",
       "580155                99       COTAHIST         0.2   \n",
       "\n",
       "       CODIGO DE NEGOGIACAO DO PAPEL  TIPO DE MERCADO  \\\n",
       "580151                        XPLG11               10   \n",
       "580152                        XPML11               10   \n",
       "580153                        XPOM11               10   \n",
       "580154                        XTED11               10   \n",
       "580155                  018BOVESPA 2               18   \n",
       "\n",
       "       NOME RESUMIDO DA EMPRESA EMISSORA ESPECIFICACAO DO PAPEL  \\\n",
       "580151                        FII XP LOG                     CI   \n",
       "580152                      FII XP MALLS                 CI  ER   \n",
       "580153                      FIP XP OMEGA                     CI   \n",
       "580154                      FII TRXE COR                     CI   \n",
       "580155                      122800000580                    157   \n",
       "\n",
       "       MOEDA DE REFERENCIA  PRECO DE ABERTURA  PRECO MAXIMO  ...  \\\n",
       "580151                  R$            10000.0       10030.0  ...   \n",
       "580152                  R$            10790.0       10800.0  ...   \n",
       "580153                  R$            10301.0       10301.0  ...   \n",
       "580154                  R$             1751.0        1790.0  ...   \n",
       "580155                 NaN                NaN           NaN  ...   \n",
       "\n",
       "        PRECO MELHOR OFERTA COMPRA  PRECO MELHOR OFERTA DE VENDA  \\\n",
       "580151                     10000.0                       10030.0   \n",
       "580152                     10750.0                       10780.0   \n",
       "580153                     10300.0                       10599.0   \n",
       "580154                      1751.0                        1790.0   \n",
       "580155                         NaN                           NaN   \n",
       "\n",
       "        NUMERO DE NEGOCIOS EFETUADOS COM O PAPEL  \\\n",
       "580151                                     804.0   \n",
       "580152                                    1321.0   \n",
       "580153                                       5.0   \n",
       "580154                                      23.0   \n",
       "580155                                       NaN   \n",
       "\n",
       "        QUANTIDADE TOTAL DE TITULOS NEGOCIADOS  \\\n",
       "580151                                 17310.0   \n",
       "580152                                 20067.0   \n",
       "580153                                   494.0   \n",
       "580154                                   222.0   \n",
       "580155                                     NaN   \n",
       "\n",
       "        VOLUME TOTAL DE TITULOS NEGOCIADOS NESTE PAPEL  \\\n",
       "580151                                     172940811.0   \n",
       "580152                                     215038945.0   \n",
       "580153                                       5088600.0   \n",
       "580154                                        390676.0   \n",
       "580155                                             NaN   \n",
       "\n",
       "        PRECO DE EXERCICIO OPCAO   Unnamed: 19  Unnamed: 20  \\\n",
       "580151                       0.0  9.999123e+14          0.0   \n",
       "580152                       0.0  9.999123e+14          0.0   \n",
       "580153                       0.0  9.999123e+14          0.0   \n",
       "580154                       0.0  9.999123e+14          0.0   \n",
       "580155                       NaN           NaN          NaN   \n",
       "\n",
       "        CODIGO DO PAPEL NO SISTEMA  NUMERO DE DISTRIBUICAO DO PAPEL  \n",
       "580151                BRXPLGCTF002                            106.0  \n",
       "580152                BRXPMLCTF000                            113.0  \n",
       "580153                BRXPOMCTF004                            115.0  \n",
       "580154                BRXTEDCTF006                            143.0  \n",
       "580155                         NaN                              NaN  \n",
       "\n",
       "[5 rows x 23 columns]"
      ]
     },
     "execution_count": 4,
     "metadata": {},
     "output_type": "execute_result"
    }
   ],
   "source": [
    "bmf2018 = df\n",
    "bmf2018.tail()"
   ]
  },
  {
   "cell_type": "code",
   "execution_count": 8,
   "metadata": {
    "collapsed": false,
    "scrolled": true
   },
   "outputs": [
    {
     "name": "stderr",
     "output_type": "stream",
     "text": [
      "D:\\Programas\\Anaconda\\lib\\site-packages\\ipykernel\\__main__.py:14: FutureWarning: The signature of `Series.to_csv` was aligned to that of `DataFrame.to_csv`, and argument 'header' will change its default value from False to True: please pass an explicit value to suppress this warning.\n"
     ]
    }
   ],
   "source": [
    "# PRIMEITO AGRUPA DE ACORDO COM ATIVO\n",
    "df_gb = bmf2018.groupby('CODIGO DE NEGOGIACAO DO PAPEL')\n",
    "\n",
    "# DEPOIS SOMA O VOLUME E ORDENAR DECRESCENTE\n",
    "bc = df_gb.sum()['VOLUME TOTAL DE TITULOS NEGOCIADOS NESTE PAPEL'].sort_values(ascending=False)\n",
    "\n",
    "# CRIA INDICE PARA O NOME DO ATIVO DEIXAR DE SER O INDICE\n",
    "blue_chips = bc.reset_index()['CODIGO DE NEGOGIACAO DO PAPEL']\n",
    "\n",
    "# SELECIONA SOMENTE OS 100 ATIVOS QUE TEM NOME PADRAO (EXCLUI MERCADO A TERMO, FIIs, ETC)  \n",
    "blue_chips = blue_chips[blue_chips.apply(lambda name: len(name) <= 5 )].iloc[:100]\n",
    "blue_chips.nunique()\n",
    "# SALVA NUM CSV\n",
    "blue_chips.to_csv('BLUECHIPS',index=False)"
   ]
  },
  {
   "cell_type": "code",
   "execution_count": 32,
   "metadata": {
    "collapsed": false
   },
   "outputs": [
    {
     "data": {
      "text/plain": [
       "0      PETR4\n",
       "1      VALE3\n",
       "2      ITUB4\n",
       "3      BBDC4\n",
       "4      BBAS3\n",
       "       ...  \n",
       "111    CPFE3\n",
       "112    EZTC3\n",
       "113    PARD3\n",
       "114    TUPY3\n",
       "116    VLID3\n",
       "Name: CODIGO DE NEGOGIACAO DO PAPEL, Length: 100, dtype: object"
      ]
     },
     "execution_count": 32,
     "metadata": {},
     "output_type": "execute_result"
    }
   ],
   "source": [
    "blue_chips.nunique()\n"
   ]
  },
  {
   "cell_type": "markdown",
   "metadata": {},
   "source": [
    "# GERANDO TABELA DE CADA BLUE CHIP"
   ]
  },
  {
   "cell_type": "code",
   "execution_count": 20,
   "metadata": {
    "collapsed": false
   },
   "outputs": [],
   "source": [
    "for bc_code in blue_chips:\n",
    "    # PEGA SOMENTE OS QUE TEM O CODIGO QUE EU QUERO (PARA CADA 'BC_CODE' - BLUE CHIP)\n",
    "    stock = bmf2018[bmf2018['CODIGO DE NEGOGIACAO DO PAPEL'] == bc_code].reset_index()\n",
    "    # SELECIONA AS COLUNAS IMPORTANTES\n",
    "    colunas_importantes = ['DATA DO PREGAO', 'CODIGO DE NEGOGIACAO DO PAPEL', 'NOME RESUMIDO DA EMPRESA EMISSORA', 'PRECO DE ABERTURA', 'PRECO MAXIMO', 'PRECO MINIMO', 'PRECO FECHAMENTO', 'VOLUME TOTAL DE TITULOS NEGOCIADOS NESTE PAPEL']\n",
    "    stock = stock[colunas_importantes]\n",
    "    # AJUSTE DE VALOR\n",
    "    stock['PRECO MAXIMO'] = stock['PRECO MAXIMO']/100\n",
    "    stock['PRECO MINIMO'] = stock['PRECO MINIMO']/100\n",
    "    stock['PRECO DE ABERTURA'] = stock['PRECO DE ABERTURA']/100\n",
    "    stock['PRECO FECHAMENTO'] = stock['PRECO FECHAMENTO']/100\n",
    "    stock['VOLUME TOTAL DE TITULOS NEGOCIADOS NESTE PAPEL'] = stock['VOLUME TOTAL DE TITULOS NEGOCIADOS NESTE PAPEL']/100\n",
    "    # CRIA COLUNAS DE ESTATISTICA\n",
    "    stock['MA_20'] = stock['PRECO FECHAMENTO'].rolling(window=20).mean()\n",
    "    stock['MA_40'] = stock['PRECO FECHAMENTO'].rolling(window=40).mean()\n",
    "    stock['STD_20'] = stock['PRECO FECHAMENTO'].rolling(window=20).std()\n",
    "    stock['STD_40'] = stock['PRECO FECHAMENTO'].rolling(window=40).std()\n",
    "    stock['BANDA_1_40 SUPERIOR'] = stock['MA_40'] + 2* stock['STD_40']\n",
    "    stock['BANDA_1_40 INFERIOR'] = stock['MA_40'] - 2* stock['STD_40']\n",
    "    stock['BANDA_2_40 SUPERIOR'] = stock['MA_40'] + 3* stock['STD_40']\n",
    "    stock['BANDA_2_40 INFERIOR'] = stock['MA_40'] - 3* stock['STD_40']\n",
    "    stock['BANDA_3_40 SUPERIOR'] = stock['MA_40'] + 4* stock['STD_40']\n",
    "    stock['BANDA_3_40 INFERIOR'] = stock['MA_40'] - 4* stock['STD_40']\n",
    "    stock = stock.fillna(value=0)\n",
    "    # SALVA NA PASTA\n",
    "    save_dir = 'HISTORICO_2018/' + stock['CODIGO DE NEGOGIACAO DO PAPEL'].iloc[0] + '_2018'\n",
    "    stock.to_csv(save_dir,index=False)"
   ]
  },
  {
   "cell_type": "markdown",
   "metadata": {},
   "source": [
    "# GERANDO GRÁFICO"
   ]
  },
  {
   "cell_type": "code",
   "execution_count": 21,
   "metadata": {
    "collapsed": false
   },
   "outputs": [
    {
     "data": {
      "text/html": [
       "<div>\n",
       "<style scoped>\n",
       "    .dataframe tbody tr th:only-of-type {\n",
       "        vertical-align: middle;\n",
       "    }\n",
       "\n",
       "    .dataframe tbody tr th {\n",
       "        vertical-align: top;\n",
       "    }\n",
       "\n",
       "    .dataframe thead th {\n",
       "        text-align: right;\n",
       "    }\n",
       "</style>\n",
       "<table border=\"1\" class=\"dataframe\">\n",
       "  <thead>\n",
       "    <tr style=\"text-align: right;\">\n",
       "      <th></th>\n",
       "      <th>CODIGO DE NEGOGIACAO DO PAPEL</th>\n",
       "      <th>NOME RESUMIDO DA EMPRESA EMISSORA</th>\n",
       "      <th>PRECO DE ABERTURA</th>\n",
       "      <th>PRECO MAXIMO</th>\n",
       "      <th>PRECO MINIMO</th>\n",
       "      <th>PRECO FECHAMENTO</th>\n",
       "      <th>VOLUME TOTAL DE TITULOS NEGOCIADOS NESTE PAPEL</th>\n",
       "      <th>MA_20</th>\n",
       "      <th>MA_40</th>\n",
       "      <th>STD_20</th>\n",
       "      <th>STD_40</th>\n",
       "      <th>BANDA_1_40 SUPERIOR</th>\n",
       "      <th>BANDA_1_40 INFERIOR</th>\n",
       "      <th>BANDA_2_40 SUPERIOR</th>\n",
       "      <th>BANDA_2_40 INFERIOR</th>\n",
       "      <th>BANDA_3_40 SUPERIOR</th>\n",
       "      <th>BANDA_3_40 INFERIOR</th>\n",
       "    </tr>\n",
       "    <tr>\n",
       "      <th>DATA DO PREGAO</th>\n",
       "      <th></th>\n",
       "      <th></th>\n",
       "      <th></th>\n",
       "      <th></th>\n",
       "      <th></th>\n",
       "      <th></th>\n",
       "      <th></th>\n",
       "      <th></th>\n",
       "      <th></th>\n",
       "      <th></th>\n",
       "      <th></th>\n",
       "      <th></th>\n",
       "      <th></th>\n",
       "      <th></th>\n",
       "      <th></th>\n",
       "      <th></th>\n",
       "      <th></th>\n",
       "    </tr>\n",
       "  </thead>\n",
       "  <tbody>\n",
       "    <tr>\n",
       "      <th>2018-01-02</th>\n",
       "      <td>ABEV3</td>\n",
       "      <td>AMBEV S/A</td>\n",
       "      <td>21.33</td>\n",
       "      <td>21.75</td>\n",
       "      <td>21.17</td>\n",
       "      <td>21.69</td>\n",
       "      <td>274813428.0</td>\n",
       "      <td>0.0</td>\n",
       "      <td>0.0</td>\n",
       "      <td>0.0</td>\n",
       "      <td>0.0</td>\n",
       "      <td>0.0</td>\n",
       "      <td>0.0</td>\n",
       "      <td>0.0</td>\n",
       "      <td>0.0</td>\n",
       "      <td>0.0</td>\n",
       "      <td>0.0</td>\n",
       "    </tr>\n",
       "    <tr>\n",
       "      <th>2018-01-03</th>\n",
       "      <td>ABEV3</td>\n",
       "      <td>AMBEV S/A</td>\n",
       "      <td>21.56</td>\n",
       "      <td>21.97</td>\n",
       "      <td>21.56</td>\n",
       "      <td>21.74</td>\n",
       "      <td>205166688.0</td>\n",
       "      <td>0.0</td>\n",
       "      <td>0.0</td>\n",
       "      <td>0.0</td>\n",
       "      <td>0.0</td>\n",
       "      <td>0.0</td>\n",
       "      <td>0.0</td>\n",
       "      <td>0.0</td>\n",
       "      <td>0.0</td>\n",
       "      <td>0.0</td>\n",
       "      <td>0.0</td>\n",
       "    </tr>\n",
       "    <tr>\n",
       "      <th>2018-01-04</th>\n",
       "      <td>ABEV3</td>\n",
       "      <td>AMBEV S/A</td>\n",
       "      <td>21.74</td>\n",
       "      <td>21.82</td>\n",
       "      <td>21.49</td>\n",
       "      <td>21.62</td>\n",
       "      <td>198387189.0</td>\n",
       "      <td>0.0</td>\n",
       "      <td>0.0</td>\n",
       "      <td>0.0</td>\n",
       "      <td>0.0</td>\n",
       "      <td>0.0</td>\n",
       "      <td>0.0</td>\n",
       "      <td>0.0</td>\n",
       "      <td>0.0</td>\n",
       "      <td>0.0</td>\n",
       "      <td>0.0</td>\n",
       "    </tr>\n",
       "    <tr>\n",
       "      <th>2018-01-05</th>\n",
       "      <td>ABEV3</td>\n",
       "      <td>AMBEV S/A</td>\n",
       "      <td>21.62</td>\n",
       "      <td>21.75</td>\n",
       "      <td>21.54</td>\n",
       "      <td>21.70</td>\n",
       "      <td>249393378.0</td>\n",
       "      <td>0.0</td>\n",
       "      <td>0.0</td>\n",
       "      <td>0.0</td>\n",
       "      <td>0.0</td>\n",
       "      <td>0.0</td>\n",
       "      <td>0.0</td>\n",
       "      <td>0.0</td>\n",
       "      <td>0.0</td>\n",
       "      <td>0.0</td>\n",
       "      <td>0.0</td>\n",
       "    </tr>\n",
       "    <tr>\n",
       "      <th>2018-01-08</th>\n",
       "      <td>ABEV3</td>\n",
       "      <td>AMBEV S/A</td>\n",
       "      <td>21.70</td>\n",
       "      <td>21.70</td>\n",
       "      <td>21.49</td>\n",
       "      <td>21.66</td>\n",
       "      <td>152685878.0</td>\n",
       "      <td>0.0</td>\n",
       "      <td>0.0</td>\n",
       "      <td>0.0</td>\n",
       "      <td>0.0</td>\n",
       "      <td>0.0</td>\n",
       "      <td>0.0</td>\n",
       "      <td>0.0</td>\n",
       "      <td>0.0</td>\n",
       "      <td>0.0</td>\n",
       "      <td>0.0</td>\n",
       "    </tr>\n",
       "  </tbody>\n",
       "</table>\n",
       "</div>"
      ],
      "text/plain": [
       "               CODIGO DE NEGOGIACAO DO PAPEL  \\\n",
       "DATA DO PREGAO                                 \n",
       "2018-01-02                             ABEV3   \n",
       "2018-01-03                             ABEV3   \n",
       "2018-01-04                             ABEV3   \n",
       "2018-01-05                             ABEV3   \n",
       "2018-01-08                             ABEV3   \n",
       "\n",
       "               NOME RESUMIDO DA EMPRESA EMISSORA  PRECO DE ABERTURA  \\\n",
       "DATA DO PREGAO                                                        \n",
       "2018-01-02                             AMBEV S/A              21.33   \n",
       "2018-01-03                             AMBEV S/A              21.56   \n",
       "2018-01-04                             AMBEV S/A              21.74   \n",
       "2018-01-05                             AMBEV S/A              21.62   \n",
       "2018-01-08                             AMBEV S/A              21.70   \n",
       "\n",
       "                PRECO MAXIMO  PRECO MINIMO  PRECO FECHAMENTO  \\\n",
       "DATA DO PREGAO                                                 \n",
       "2018-01-02             21.75         21.17             21.69   \n",
       "2018-01-03             21.97         21.56             21.74   \n",
       "2018-01-04             21.82         21.49             21.62   \n",
       "2018-01-05             21.75         21.54             21.70   \n",
       "2018-01-08             21.70         21.49             21.66   \n",
       "\n",
       "                VOLUME TOTAL DE TITULOS NEGOCIADOS NESTE PAPEL  MA_20  MA_40  \\\n",
       "DATA DO PREGAO                                                                 \n",
       "2018-01-02                                         274813428.0    0.0    0.0   \n",
       "2018-01-03                                         205166688.0    0.0    0.0   \n",
       "2018-01-04                                         198387189.0    0.0    0.0   \n",
       "2018-01-05                                         249393378.0    0.0    0.0   \n",
       "2018-01-08                                         152685878.0    0.0    0.0   \n",
       "\n",
       "                STD_20  STD_40  BANDA_1_40 SUPERIOR  BANDA_1_40 INFERIOR  \\\n",
       "DATA DO PREGAO                                                             \n",
       "2018-01-02         0.0     0.0                  0.0                  0.0   \n",
       "2018-01-03         0.0     0.0                  0.0                  0.0   \n",
       "2018-01-04         0.0     0.0                  0.0                  0.0   \n",
       "2018-01-05         0.0     0.0                  0.0                  0.0   \n",
       "2018-01-08         0.0     0.0                  0.0                  0.0   \n",
       "\n",
       "                BANDA_2_40 SUPERIOR  BANDA_2_40 INFERIOR  BANDA_3_40 SUPERIOR  \\\n",
       "DATA DO PREGAO                                                                  \n",
       "2018-01-02                      0.0                  0.0                  0.0   \n",
       "2018-01-03                      0.0                  0.0                  0.0   \n",
       "2018-01-04                      0.0                  0.0                  0.0   \n",
       "2018-01-05                      0.0                  0.0                  0.0   \n",
       "2018-01-08                      0.0                  0.0                  0.0   \n",
       "\n",
       "                BANDA_3_40 INFERIOR  \n",
       "DATA DO PREGAO                       \n",
       "2018-01-02                      0.0  \n",
       "2018-01-03                      0.0  \n",
       "2018-01-04                      0.0  \n",
       "2018-01-05                      0.0  \n",
       "2018-01-08                      0.0  "
      ]
     },
     "execution_count": 21,
     "metadata": {},
     "output_type": "execute_result"
    }
   ],
   "source": [
    "stock = pd.read_csv('HISTORICO_2018/ABEV3_2018', index_col = 'DATA DO PREGAO', parse_dates=True)\n",
    "stock.head()"
   ]
  },
  {
   "cell_type": "code",
   "execution_count": 24,
   "metadata": {
    "collapsed": false,
    "scrolled": true
   },
   "outputs": [
    {
     "data": {
      "image/png": "[encoded data removed]",
      "text/plain": [
       "<matplotlib.figure.Figure at 0x4a727b38>"
      ]
     },
     "metadata": {},
     "output_type": "display_data"
    }
   ],
   "source": [
    "params = {'legend.fontsize': 'medium',\n",
    "          'figure.figsize': (15, 5),\n",
    "         'axes.labelsize': 'medium',\n",
    "         'axes.titlesize':'x-large',\n",
    "         'xtick.labelsize':'medium',\n",
    "         'ytick.labelsize':'medium'}\n",
    "plt.rcParams.update(params)\n",
    "\n",
    "stock_plt = stock[['PRECO FECHAMENTO','MA_40','BANDA_1_40 SUPERIOR','BANDA_1_40 INFERIOR','BANDA_2_40 SUPERIOR','BANDA_2_40 INFERIOR']].plot\n",
    "title_stg = stock['NOME RESUMIDO DA EMPRESA EMISSORA'].iloc[0] + \": \" + stock['CODIGO DE NEGOGIACAO DO PAPEL'].iloc[0]\n",
    "stock_plt = stock_plt.line(title = title_stg)\n",
    "\n",
    "stock_plt.set_ylim([12, 28])\n",
    "stock_plt.set_xlim(['2018-03-01', '2018-12-30'])\n",
    "\n",
    "stock_plt.xaxis.set_major_locator(dates.MonthLocator())\n",
    "stock_plt.xaxis.set_major_formatter(dates.DateFormatter('\\n\\n%b-%Y'))\n",
    "stock_plt.xaxis.set_minor_locator(dates.WeekdayLocator(byweekday=0))\n",
    "stock_plt.xaxis.set_minor_formatter(dates.DateFormatter('%d'))\n",
    "\n"
   ]
  },
  {
   "cell_type": "markdown",
   "metadata": {},
   "source": [
    "# CRIANDO TABELAS AUXILIARES DAS ESTRATEGIAS"
   ]
  },
  {
   "cell_type": "code",
   "execution_count": 96,
   "metadata": {
    "collapsed": false
   },
   "outputs": [],
   "source": [
    "df = pd.DataFrame()\n",
    "df['CODIGO DE NEGOGIACAO DO PAPEL'] = blue_chips.unique()\n",
    "df['ESTADO'] = 'PROCURANDO ENTRADA'\n",
    "df['AUX'] = 'EMPTY'\n",
    "\n",
    "\n",
    "save_dir = 'STRATEGIES/BollingerBand'\n",
    "df.to_csv(save_dir)"
   ]
  },
  {
   "cell_type": "code",
   "execution_count": 97,
   "metadata": {
    "collapsed": false
   },
   "outputs": [
    {
     "data": {
      "text/plain": [
       "'PROCURANDO ENTRADA'"
      ]
     },
     "execution_count": 97,
     "metadata": {},
     "output_type": "execute_result"
    }
   ],
   "source": [
    "df = df.set_index('CODIGO DE NEGOGIACAO DO PAPEL')\n",
    "\n",
    "df.loc['VALE3']['ESTADO']"
   ]
  },
  {
   "cell_type": "code",
   "execution_count": null,
   "metadata": {
    "collapsed": true
   },
   "outputs": [],
   "source": []
  },
  {
   "cell_type": "code",
   "execution_count": 98,
   "metadata": {
    "collapsed": true
   },
   "outputs": [],
   "source": [
    "df = pd.DataFrame()\n",
    "df['CODIGO DE NEGOGIACAO DO PAPEL'] = ['teste']\n",
    "df['DATA DO PREGAO'] = ['2018-01-03']\n",
    "df['PRECO'] = ['20']\n",
    "df['OPERACAO'] = ['BUY']\n",
    "\n",
    "save_dir = 'BACK_TEST/BollingerBand'\n",
    "df.to_csv(save_dir)"
   ]
  },
  {
   "cell_type": "code",
   "execution_count": 99,
   "metadata": {
    "collapsed": false
   },
   "outputs": [
    {
     "data": {
      "text/html": [
       "<div>\n",
       "<style scoped>\n",
       "    .dataframe tbody tr th:only-of-type {\n",
       "        vertical-align: middle;\n",
       "    }\n",
       "\n",
       "    .dataframe tbody tr th {\n",
       "        vertical-align: top;\n",
       "    }\n",
       "\n",
       "    .dataframe thead th {\n",
       "        text-align: right;\n",
       "    }\n",
       "</style>\n",
       "<table border=\"1\" class=\"dataframe\">\n",
       "  <thead>\n",
       "    <tr style=\"text-align: right;\">\n",
       "      <th></th>\n",
       "      <th>CODIGO DE NEGOGIACAO DO PAPEL</th>\n",
       "      <th>DATA DO PREGAO</th>\n",
       "      <th>PRECO</th>\n",
       "      <th>OPERACAO</th>\n",
       "    </tr>\n",
       "  </thead>\n",
       "  <tbody>\n",
       "    <tr>\n",
       "      <th>0</th>\n",
       "      <td>teste</td>\n",
       "      <td>2018-01-03</td>\n",
       "      <td>20</td>\n",
       "      <td>BUY</td>\n",
       "    </tr>\n",
       "  </tbody>\n",
       "</table>\n",
       "</div>"
      ],
      "text/plain": [
       "  CODIGO DE NEGOGIACAO DO PAPEL DATA DO PREGAO PRECO OPERACAO\n",
       "0                         teste     2018-01-03    20      BUY"
      ]
     },
     "execution_count": 99,
     "metadata": {},
     "output_type": "execute_result"
    }
   ],
   "source": [
    "df"
   ]
  },
  {
   "cell_type": "code",
   "execution_count": null,
   "metadata": {
    "collapsed": true
   },
   "outputs": [],
   "source": []
  }
 ],
 "metadata": {
  "kernelspec": {
   "display_name": "Python 3",
   "language": "python",
   "name": "python3"
  },
  "language_info": {
   "codemirror_mode": {
    "name": "ipython",
    "version": 3
   },
   "file_extension": ".py",
   "mimetype": "text/x-python",
   "name": "python",
   "nbconvert_exporter": "python",
   "pygments_lexer": "ipython3",
   "version": "3.6.0"
  }
 },
 "nbformat": 4,
 "nbformat_minor": 2
}
