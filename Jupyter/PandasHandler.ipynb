{
 "cells": [
  {
   "cell_type": "markdown",
   "metadata": {},
   "source": [
    "# PANDA HANDLER"
   ]
  },
  {
   "cell_type": "markdown",
   "metadata": {},
   "source": []
  },
  {
   "cell_type": "code",
   "execution_count": 2,
   "metadata": {},
   "outputs": [],
   "source": [
    "import pandas as pd"
   ]
  },
  {
   "cell_type": "code",
   "execution_count": 3,
   "metadata": {},
   "outputs": [],
   "source": [
    "df = pd.read_excel('BMF2018.xltx')"
   ]
  },
  {
   "cell_type": "markdown",
   "metadata": {},
   "source": [
    "# PEGANDO BLUE CHIPS"
   ]
  },
  {
   "cell_type": "code",
   "execution_count": 98,
   "metadata": {},
   "outputs": [
    {
     "data": {
      "text/html": [
       "<div>\n",
       "<style scoped>\n",
       "    .dataframe tbody tr th:only-of-type {\n",
       "        vertical-align: middle;\n",
       "    }\n",
       "\n",
       "    .dataframe tbody tr th {\n",
       "        vertical-align: top;\n",
       "    }\n",
       "\n",
       "    .dataframe thead th {\n",
       "        text-align: right;\n",
       "    }\n",
       "</style>\n",
       "<table border=\"1\" class=\"dataframe\">\n",
       "  <thead>\n",
       "    <tr style=\"text-align: right;\">\n",
       "      <th></th>\n",
       "      <th>TIPO DE REGISTRO</th>\n",
       "      <th>DATA DO PREGAO</th>\n",
       "      <th>CODIGO BDI</th>\n",
       "      <th>CODIGO DE NEGOGIACAO DO PAPEL</th>\n",
       "      <th>TIPO DE MERCADO</th>\n",
       "      <th>NOME RESUMIDO DA EMPRESA EMISSORA</th>\n",
       "      <th>ESPECIFICACAO DO PAPEL</th>\n",
       "      <th>MOEDA DE REFERENCIA</th>\n",
       "      <th>PRECO DE ABERTURA</th>\n",
       "      <th>PRECO MAXIMO</th>\n",
       "      <th>...</th>\n",
       "      <th>PRECO MELHOR OFERTA COMPRA</th>\n",
       "      <th>PRECO MELHOR OFERTA DE VENDA</th>\n",
       "      <th>NUMERO DE NEGOCIOS EFETUADOS COM O PAPEL</th>\n",
       "      <th>QUANTIDADE TOTAL DE TITULOS NEGOCIADOS</th>\n",
       "      <th>VOLUME TOTAL DE TITULOS NEGOCIADOS NESTE PAPEL</th>\n",
       "      <th>PRECO DE EXERCICIO OPCAO</th>\n",
       "      <th>Unnamed: 19</th>\n",
       "      <th>Unnamed: 20</th>\n",
       "      <th>CODIGO DO PAPEL NO SISTEMA</th>\n",
       "      <th>NUMERO DE DISTRIBUICAO DO PAPEL</th>\n",
       "    </tr>\n",
       "  </thead>\n",
       "  <tbody>\n",
       "    <tr>\n",
       "      <th>580151</th>\n",
       "      <td>1</td>\n",
       "      <td>20181228</td>\n",
       "      <td>12.0</td>\n",
       "      <td>XPLG11</td>\n",
       "      <td>10</td>\n",
       "      <td>FII XP LOG</td>\n",
       "      <td>CI</td>\n",
       "      <td>R$</td>\n",
       "      <td>10000.0</td>\n",
       "      <td>10030.0</td>\n",
       "      <td>...</td>\n",
       "      <td>10000.0</td>\n",
       "      <td>10030.0</td>\n",
       "      <td>804.0</td>\n",
       "      <td>17310.0</td>\n",
       "      <td>172940811.0</td>\n",
       "      <td>0.0</td>\n",
       "      <td>9.999123e+14</td>\n",
       "      <td>0.0</td>\n",
       "      <td>BRXPLGCTF002</td>\n",
       "      <td>106.0</td>\n",
       "    </tr>\n",
       "    <tr>\n",
       "      <th>580152</th>\n",
       "      <td>1</td>\n",
       "      <td>20181228</td>\n",
       "      <td>12.0</td>\n",
       "      <td>XPML11</td>\n",
       "      <td>10</td>\n",
       "      <td>FII XP MALLS</td>\n",
       "      <td>CI  ER</td>\n",
       "      <td>R$</td>\n",
       "      <td>10790.0</td>\n",
       "      <td>10800.0</td>\n",
       "      <td>...</td>\n",
       "      <td>10750.0</td>\n",
       "      <td>10780.0</td>\n",
       "      <td>1321.0</td>\n",
       "      <td>20067.0</td>\n",
       "      <td>215038945.0</td>\n",
       "      <td>0.0</td>\n",
       "      <td>9.999123e+14</td>\n",
       "      <td>0.0</td>\n",
       "      <td>BRXPMLCTF000</td>\n",
       "      <td>113.0</td>\n",
       "    </tr>\n",
       "    <tr>\n",
       "      <th>580153</th>\n",
       "      <td>1</td>\n",
       "      <td>20181228</td>\n",
       "      <td>14.0</td>\n",
       "      <td>XPOM11</td>\n",
       "      <td>10</td>\n",
       "      <td>FIP XP OMEGA</td>\n",
       "      <td>CI</td>\n",
       "      <td>R$</td>\n",
       "      <td>10301.0</td>\n",
       "      <td>10301.0</td>\n",
       "      <td>...</td>\n",
       "      <td>10300.0</td>\n",
       "      <td>10599.0</td>\n",
       "      <td>5.0</td>\n",
       "      <td>494.0</td>\n",
       "      <td>5088600.0</td>\n",
       "      <td>0.0</td>\n",
       "      <td>9.999123e+14</td>\n",
       "      <td>0.0</td>\n",
       "      <td>BRXPOMCTF004</td>\n",
       "      <td>115.0</td>\n",
       "    </tr>\n",
       "    <tr>\n",
       "      <th>580154</th>\n",
       "      <td>1</td>\n",
       "      <td>20181228</td>\n",
       "      <td>12.0</td>\n",
       "      <td>XTED11</td>\n",
       "      <td>10</td>\n",
       "      <td>FII TRXE COR</td>\n",
       "      <td>CI</td>\n",
       "      <td>R$</td>\n",
       "      <td>1751.0</td>\n",
       "      <td>1790.0</td>\n",
       "      <td>...</td>\n",
       "      <td>1751.0</td>\n",
       "      <td>1790.0</td>\n",
       "      <td>23.0</td>\n",
       "      <td>222.0</td>\n",
       "      <td>390676.0</td>\n",
       "      <td>0.0</td>\n",
       "      <td>9.999123e+14</td>\n",
       "      <td>0.0</td>\n",
       "      <td>BRXTEDCTF006</td>\n",
       "      <td>143.0</td>\n",
       "    </tr>\n",
       "    <tr>\n",
       "      <th>580155</th>\n",
       "      <td>99</td>\n",
       "      <td>COTAHIST</td>\n",
       "      <td>0.2</td>\n",
       "      <td>018BOVESPA 2</td>\n",
       "      <td>18</td>\n",
       "      <td>122800000580</td>\n",
       "      <td>157</td>\n",
       "      <td>NaN</td>\n",
       "      <td>NaN</td>\n",
       "      <td>NaN</td>\n",
       "      <td>...</td>\n",
       "      <td>NaN</td>\n",
       "      <td>NaN</td>\n",
       "      <td>NaN</td>\n",
       "      <td>NaN</td>\n",
       "      <td>NaN</td>\n",
       "      <td>NaN</td>\n",
       "      <td>NaN</td>\n",
       "      <td>NaN</td>\n",
       "      <td>NaN</td>\n",
       "      <td>NaN</td>\n",
       "    </tr>\n",
       "  </tbody>\n",
       "</table>\n",
       "<p>5 rows × 23 columns</p>\n",
       "</div>"
      ],
      "text/plain": [
       "        TIPO DE REGISTRO DATA DO PREGAO  CODIGO BDI  \\\n",
       "580151                 1       20181228        12.0   \n",
       "580152                 1       20181228        12.0   \n",
       "580153                 1       20181228        14.0   \n",
       "580154                 1       20181228        12.0   \n",
       "580155                99       COTAHIST         0.2   \n",
       "\n",
       "       CODIGO DE NEGOGIACAO DO PAPEL  TIPO DE MERCADO  \\\n",
       "580151                        XPLG11               10   \n",
       "580152                        XPML11               10   \n",
       "580153                        XPOM11               10   \n",
       "580154                        XTED11               10   \n",
       "580155                  018BOVESPA 2               18   \n",
       "\n",
       "       NOME RESUMIDO DA EMPRESA EMISSORA ESPECIFICACAO DO PAPEL  \\\n",
       "580151                        FII XP LOG                     CI   \n",
       "580152                      FII XP MALLS                 CI  ER   \n",
       "580153                      FIP XP OMEGA                     CI   \n",
       "580154                      FII TRXE COR                     CI   \n",
       "580155                      122800000580                    157   \n",
       "\n",
       "       MOEDA DE REFERENCIA  PRECO DE ABERTURA  PRECO MAXIMO  ...  \\\n",
       "580151                  R$            10000.0       10030.0  ...   \n",
       "580152                  R$            10790.0       10800.0  ...   \n",
       "580153                  R$            10301.0       10301.0  ...   \n",
       "580154                  R$             1751.0        1790.0  ...   \n",
       "580155                 NaN                NaN           NaN  ...   \n",
       "\n",
       "        PRECO MELHOR OFERTA COMPRA  PRECO MELHOR OFERTA DE VENDA  \\\n",
       "580151                     10000.0                       10030.0   \n",
       "580152                     10750.0                       10780.0   \n",
       "580153                     10300.0                       10599.0   \n",
       "580154                      1751.0                        1790.0   \n",
       "580155                         NaN                           NaN   \n",
       "\n",
       "        NUMERO DE NEGOCIOS EFETUADOS COM O PAPEL  \\\n",
       "580151                                     804.0   \n",
       "580152                                    1321.0   \n",
       "580153                                       5.0   \n",
       "580154                                      23.0   \n",
       "580155                                       NaN   \n",
       "\n",
       "        QUANTIDADE TOTAL DE TITULOS NEGOCIADOS  \\\n",
       "580151                                 17310.0   \n",
       "580152                                 20067.0   \n",
       "580153                                   494.0   \n",
       "580154                                   222.0   \n",
       "580155                                     NaN   \n",
       "\n",
       "        VOLUME TOTAL DE TITULOS NEGOCIADOS NESTE PAPEL  \\\n",
       "580151                                     172940811.0   \n",
       "580152                                     215038945.0   \n",
       "580153                                       5088600.0   \n",
       "580154                                        390676.0   \n",
       "580155                                             NaN   \n",
       "\n",
       "        PRECO DE EXERCICIO OPCAO   Unnamed: 19  Unnamed: 20  \\\n",
       "580151                       0.0  9.999123e+14          0.0   \n",
       "580152                       0.0  9.999123e+14          0.0   \n",
       "580153                       0.0  9.999123e+14          0.0   \n",
       "580154                       0.0  9.999123e+14          0.0   \n",
       "580155                       NaN           NaN          NaN   \n",
       "\n",
       "        CODIGO DO PAPEL NO SISTEMA  NUMERO DE DISTRIBUICAO DO PAPEL  \n",
       "580151                BRXPLGCTF002                            106.0  \n",
       "580152                BRXPMLCTF000                            113.0  \n",
       "580153                BRXPOMCTF004                            115.0  \n",
       "580154                BRXTEDCTF006                            143.0  \n",
       "580155                         NaN                              NaN  \n",
       "\n",
       "[5 rows x 23 columns]"
      ]
     },
     "execution_count": 98,
     "metadata": {},
     "output_type": "execute_result"
    }
   ],
   "source": [
    "bmf2018 = df\n",
    "bmf2018.tail()"
   ]
  },
  {
   "cell_type": "code",
   "execution_count": 99,
   "metadata": {
    "scrolled": true
   },
   "outputs": [
    {
     "name": "stderr",
     "output_type": "stream",
     "text": [
      "/home/rodrigo/anaconda3/lib/python3.7/site-packages/ipykernel_launcher.py:14: FutureWarning: The signature of `Series.to_csv` was aligned to that of `DataFrame.to_csv`, and argument 'header' will change its default value from False to True: please pass an explicit value to suppress this warning.\n",
      "  \n"
     ]
    }
   ],
   "source": [
    "# PRIMEITO AGRUPA DE ACORDO COM ATIVO\n",
    "df_gb = bmf2018.groupby('CODIGO DE NEGOGIACAO DO PAPEL')\n",
    "\n",
    "# DEPOIS SOMA O VOLUME E ORDENAR DECRESCENTE\n",
    "bc = df_gb.sum()['VOLUME TOTAL DE TITULOS NEGOCIADOS NESTE PAPEL'].sort_values(ascending=False)\n",
    "\n",
    "# CRIA INDICE PARA O NOME DO ATIVO DEIXAR DE SER O INDICE\n",
    "blue_chips = bc.reset_index()['CODIGO DE NEGOGIACAO DO PAPEL']\n",
    "\n",
    "# SELECIONA SOMENTE OS 100 ATIVOS QUE TEM NOME PADRAO (EXCLUI MERCADO A TERMO, FIIs, ETC)  \n",
    "blue_chips = blue_chips[blue_chips.apply(lambda name: len(name) <= 5 )].iloc[:100]\n",
    "blue_chips.nunique()\n",
    "# SALVA NUM CSV\n",
    "blue_chips.to_csv('BLUECHIPS',index=False)"
   ]
  },
  {
   "cell_type": "code",
   "execution_count": 100,
   "metadata": {},
   "outputs": [
    {
     "data": {
      "text/plain": [
       "100"
      ]
     },
     "execution_count": 100,
     "metadata": {},
     "output_type": "execute_result"
    }
   ],
   "source": [
    "blue_chips.nunique()\n"
   ]
  },
  {
   "cell_type": "markdown",
   "metadata": {},
   "source": [
    "# GERANDO TABELA DE CADA BLUE CHIP"
   ]
  },
  {
   "cell_type": "code",
   "execution_count": 111,
   "metadata": {},
   "outputs": [],
   "source": [
    "for bc_code in blue_chips:\n",
    "    # PEGA SOMENTE OS QUE TEM O CODIGO QUE EU QUERO (PARA CADA 'BC_CODE' - BLUE CHIP)\n",
    "    stock = bmf2018[bmf2018['CODIGO DE NEGOGIACAO DO PAPEL'] == bc_code].reset_index()\n",
    "    # SELECIONA AS COLUNAS IMPORTANTES\n",
    "    colunas_importantes = ['DATA DO PREGAO', 'CODIGO DE NEGOGIACAO DO PAPEL', 'NOME RESUMIDO DA EMPRESA EMISSORA', 'PRECO DE ABERTURA', 'PRECO MAXIMO', 'PRECO MINIMO', 'PRECO FECHAMENTO', 'VOLUME TOTAL DE TITULOS NEGOCIADOS NESTE PAPEL']\n",
    "    stock = stock[colunas_importantes]\n",
    "    # AJUSTE DE VALOR\n",
    "    stock['PRECO MAXIMO'] = stock['PRECO MAXIMO']/100\n",
    "    stock['PRECO MINIMO'] = stock['PRECO MINIMO']/100\n",
    "    stock['PRECO DE ABERTURA'] = stock['PRECO DE ABERTURA']/100\n",
    "    stock['PRECO FECHAMENTO'] = stock['PRECO FECHAMENTO']/100\n",
    "    stock['VOLUME TOTAL DE TITULOS NEGOCIADOS NESTE PAPEL'] = stock['VOLUME TOTAL DE TITULOS NEGOCIADOS NESTE PAPEL']/100\n",
    "    # CRIA COLUNAS DE ESTATISTICA\n",
    "    stock['MA_20'] = stock['PRECO FECHAMENTO'].rolling(window=20).mean()\n",
    "    stock['MA_40'] = stock['PRECO FECHAMENTO'].rolling(window=40).mean()\n",
    "    stock['STD_20'] = stock['PRECO FECHAMENTO'].rolling(window=20).std()\n",
    "    stock['STD_40'] = stock['PRECO FECHAMENTO'].rolling(window=40).std()\n",
    "    stock['BANDA_1_40 SUPERIOR'] = stock['MA_40'] + 2* stock['STD_40']\n",
    "    stock['BANDA_1_40 INFERIOR'] = stock['MA_40'] - 2* stock['STD_40']\n",
    "    stock['BANDA_2_40 SUPERIOR'] = stock['MA_40'] + 3* stock['STD_40']\n",
    "    stock['BANDA_2_40 SUPEROR'] = stock['MA_40'] - 3* stock['STD_40']\n",
    "    # SALVA NA PASTA\n",
    "    save_dir = 'HISTORICO_2018/' + stock['CODIGO DE NEGOGIACAO DO PAPEL'].iloc[0] + '_2018'\n",
    "    stock.to_csv(save_dir,index=False)"
   ]
  },
  {
   "cell_type": "markdown",
   "metadata": {},
   "source": [
    "Aparentemente ao abrir no libre office uns valores ficam sem a marcação de decimal, mas abrindo com pd.read_csv está tudo certo.."
   ]
  },
  {
   "cell_type": "code",
   "execution_count": null,
   "metadata": {},
   "outputs": [],
   "source": []
  },
  {
   "cell_type": "code",
   "execution_count": null,
   "metadata": {},
   "outputs": [],
   "source": []
  },
  {
   "cell_type": "code",
   "execution_count": 95,
   "metadata": {},
   "outputs": [],
   "source": []
  },
  {
   "cell_type": "code",
   "execution_count": 55,
   "metadata": {},
   "outputs": [],
   "source": []
  },
  {
   "cell_type": "code",
   "execution_count": null,
   "metadata": {},
   "outputs": [],
   "source": []
  }
 ],
 "metadata": {
  "kernelspec": {
   "display_name": "Python 3",
   "language": "python",
   "name": "python3"
  },
  "language_info": {
   "codemirror_mode": {
    "name": "ipython",
    "version": 3
   },
   "file_extension": ".py",
   "mimetype": "text/x-python",
   "name": "python",
   "nbconvert_exporter": "python",
   "pygments_lexer": "ipython3",
   "version": "3.7.3"
  }
 },
 "nbformat": 4,
 "nbformat_minor": 2
}
